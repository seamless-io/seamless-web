{
 "cells": [
  {
   "cell_type": "code",
   "execution_count": 359,
   "metadata": {},
   "outputs": [],
   "source": [
    "from collections import defaultdict\n",
    "import json\n",
    "\n",
    "def nested_dict():\n",
    "   \"\"\"\n",
    "   Creates a default dictionary where each value is an other default dictionary.\n",
    "   \"\"\"\n",
    "   return defaultdict(nested_dict)\n",
    "\n",
    "def default_to_regular(d):\n",
    "    \"\"\"\n",
    "    Converts defaultdicts of defaultdicts to dict of dicts.\n",
    "    \"\"\"\n",
    "    if isinstance(d, defaultdict):\n",
    "        d = {k: default_to_regular(v) for k, v in d.items()}\n",
    "    return d\n",
    "\n",
    "def get_path_dict(paths):\n",
    "    new_path_dict = nested_dict()\n",
    "    for path in paths:\n",
    "        parts = path.split('/')\n",
    "        if parts:\n",
    "            marcher = new_path_dict\n",
    "            for key in parts[:-1]:\n",
    "                marcher = marcher[key]\n",
    "            marcher[parts[-1]] = parts[-1]\n",
    "    return default_to_regular(new_path_dict)"
   ]
  },
  {
   "cell_type": "code",
   "execution_count": 388,
   "metadata": {},
   "outputs": [],
   "source": [
    "files = ['./requirements.txt', './README.md', './.env', './.example_env', './send_email.py', './function.py', \n",
    "         './.idea/send_daily_email_yfinance.iml', \n",
    "         './.idea/inspectionProfiles/profiles_settings.xml', './.idea/vcs.xml', './.idea/workspace.xml', \n",
    "         './.idea/modules.xml', './.idea/misc.xml']"
   ]
  },
  {
   "cell_type": "code",
   "execution_count": 391,
   "metadata": {},
   "outputs": [],
   "source": [
    "files = [f[2:] for f in files]"
   ]
  },
  {
   "cell_type": "code",
   "execution_count": 362,
   "metadata": {},
   "outputs": [],
   "source": [
    "results = get_path_dict(files)"
   ]
  },
  {
   "cell_type": "code",
   "execution_count": 357,
   "metadata": {},
   "outputs": [],
   "source": [
    "from pprint import pprint"
   ]
  },
  {
   "cell_type": "code",
   "execution_count": 363,
   "metadata": {},
   "outputs": [
    {
     "name": "stdout",
     "output_type": "stream",
     "text": [
      "{'.env': '.env',\n",
      " '.example_env': '.example_env',\n",
      " '.idea': {'inspectionProfiles': {'profiles_settings.xml': 'profiles_settings.xml'},\n",
      "           'misc.xml': 'misc.xml',\n",
      "           'modules.xml': 'modules.xml',\n",
      "           'send_daily_email_yfinance.iml': 'send_daily_email_yfinance.iml',\n",
      "           'vcs.xml': 'vcs.xml',\n",
      "           'workspace.xml': 'workspace.xml'},\n",
      " 'README.md': 'README.md',\n",
      " 'function.py': 'function.py',\n",
      " 'requirements.txt': 'requirements.txt',\n",
      " 'send_email.py': 'send_email.py'}\n"
     ]
    }
   ],
   "source": [
    "pprint(results)"
   ]
  },
  {
   "cell_type": "code",
   "execution_count": 350,
   "metadata": {},
   "outputs": [],
   "source": [
    "def path_to_dict(path):\n",
    "    tree_dict = {}\n",
    "    \n",
    "    items = list(reversed(path.split('/')))\n",
    "    for i in items:\n",
    "        if items.index(i) == 0:\n",
    "            tree_dict = {'type': 'file', 'name': i}\n",
    "        else:\n",
    "            tree_dict = {'type': 'folder', 'name': i, 'children': [tree_dict]}\n",
    "    \n",
    "    return tree_dict"
   ]
  },
  {
   "cell_type": "code",
   "execution_count": 401,
   "metadata": {},
   "outputs": [],
   "source": [
    "files = ['f1/f2/f3/function.py', 'f1/f2/function1.py', 'function2.py', 'f2/function2.py', 'f1/f2/f3/function4.py',]"
   ]
  },
  {
   "cell_type": "code",
   "execution_count": 352,
   "metadata": {},
   "outputs": [
    {
     "name": "stdout",
     "output_type": "stream",
     "text": [
      "{'children': [{'children': [{'children': [{'name': 'function.py',\n",
      "                                           'type': 'file'}],\n",
      "                             'name': 'f3',\n",
      "                             'type': 'folder'}],\n",
      "               'name': 'f2',\n",
      "               'type': 'folder'}],\n",
      " 'name': 'f1',\n",
      " 'type': 'folder'}\n"
     ]
    }
   ],
   "source": [
    "pprint(path_to_dict(files[0]))"
   ]
  },
  {
   "cell_type": "code",
   "execution_count": 349,
   "metadata": {},
   "outputs": [
    {
     "data": {
      "text/plain": [
       "{'type': 'file', 'name': 'function.py'}"
      ]
     },
     "execution_count": 349,
     "metadata": {},
     "output_type": "execute_result"
    }
   ],
   "source": [
    "glom(path_to_dict(files[0]), 'children.children.children')"
   ]
  },
  {
   "cell_type": "code",
   "execution_count": 369,
   "metadata": {},
   "outputs": [],
   "source": [
    "folders = ['f1/f2/f3', 'f1/f2', 'f2']"
   ]
  },
  {
   "cell_type": "code",
   "execution_count": 373,
   "metadata": {},
   "outputs": [],
   "source": [
    "def create_folder_structure(pathes):\n",
    "    result = []\n",
    "    for path in pathes:\n",
    "        tree_dict = {}\n",
    "        items = list(reversed(path.split('/')))\n",
    "        for i in items:\n",
    "            tree_dict = {'type': 'folder', i: tree_dict}\n",
    "        result.append(tree_dict)\n",
    "    return result"
   ]
  },
  {
   "cell_type": "code",
   "execution_count": 374,
   "metadata": {},
   "outputs": [],
   "source": [
    "result = create_folder_structure(folders)"
   ]
  },
  {
   "cell_type": "code",
   "execution_count": 375,
   "metadata": {},
   "outputs": [
    {
     "data": {
      "text/plain": [
       "[{'type': 'folder',\n",
       "  'f1': {'type': 'folder', 'f2': {'type': 'folder', 'f3': {}}}},\n",
       " {'type': 'folder', 'f1': {'type': 'folder', 'f2': {}}},\n",
       " {'type': 'folder', 'f2': {}}]"
      ]
     },
     "execution_count": 375,
     "metadata": {},
     "output_type": "execute_result"
    }
   ],
   "source": [
    "result"
   ]
  },
  {
   "cell_type": "code",
   "execution_count": 376,
   "metadata": {},
   "outputs": [],
   "source": [
    "x = path_to_dict('f1/f2/f3/function.py')\n",
    "y = path_to_dict('f1/f2/function1.py')\n",
    "z = path_to_dict('function2.py')\n",
    "k = path_to_dict('f2/function2.py')"
   ]
  },
  {
   "cell_type": "code",
   "execution_count": 381,
   "metadata": {},
   "outputs": [],
   "source": [
    "folders = ('f1/f2/f3/', 'f1/f2', 'f2')"
   ]
  },
  {
   "cell_type": "code",
   "execution_count": 417,
   "metadata": {},
   "outputs": [],
   "source": [
    "dct = {}\n",
    "\n",
    "for item in files:\n",
    "    p = dct\n",
    "    for x in item.split('/'):\n",
    "        p = p.setdefault(x, {})"
   ]
  },
  {
   "cell_type": "code",
   "execution_count": 409,
   "metadata": {},
   "outputs": [
    {
     "name": "stdout",
     "output_type": "stream",
     "text": [
      "{'f1': {'f2': {'f3': {'function.py': {}, 'function4.py': {}},\n",
      "               'function1.py': {}}},\n",
      " 'f2': {'function2.py': {}},\n",
      " 'function2.py': {}}\n"
     ]
    }
   ],
   "source": [
    "pprint(dct)"
   ]
  },
  {
   "cell_type": "code",
   "execution_count": 414,
   "metadata": {},
   "outputs": [],
   "source": [
    "def get_all_values(nested_dictionary):\n",
    "    for key, value in nested_dictionary.items():\n",
    "        if type(value) is dict:\n",
    "            get_all_values(value)\n",
    "        else:\n",
    "            print(key, \":\", value)"
   ]
  },
  {
   "cell_type": "code",
   "execution_count": 415,
   "metadata": {},
   "outputs": [],
   "source": [
    "get_all_values(dct)"
   ]
  },
  {
   "cell_type": "code",
   "execution_count": null,
   "metadata": {},
   "outputs": [],
   "source": []
  }
 ],
 "metadata": {
  "kernelspec": {
   "display_name": "Python 3",
   "language": "python",
   "name": "python3"
  },
  "language_info": {
   "codemirror_mode": {
    "name": "ipython",
    "version": 3
   },
   "file_extension": ".py",
   "mimetype": "text/x-python",
   "name": "python",
   "nbconvert_exporter": "python",
   "pygments_lexer": "ipython3",
   "version": "3.6.6"
  }
 },
 "nbformat": 4,
 "nbformat_minor": 2
}
